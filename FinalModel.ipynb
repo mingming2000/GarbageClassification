{
  "cells": [
    {
      "cell_type": "markdown",
      "id": "ec79a245",
      "metadata": {
        "id": "ec79a245"
      },
      "source": [
        "# Import Libraries"
      ]
    },
    {
      "cell_type": "code",
      "execution_count": null,
      "id": "9f239a4c",
      "metadata": {
        "id": "9f239a4c"
      },
      "outputs": [],
      "source": [
        "import os\n",
        "\n",
        "import torchvision\n",
        "from torchvision import transforms, datasets, models\n",
        "\n",
        "import torch\n",
        "import torch.nn as nn\n",
        "import torch.nn.functional as F\n",
        "import torch.optim as optim\n",
        "from torch.utils.data import Dataset, DataLoader, random_split\n",
        "\n",
        "from PIL import Image\n",
        "\n",
        "from tqdm.auto import tqdm\n",
        "\n",
        "import matplotlib.pyplot as plt"
      ]
    },
    {
      "cell_type": "markdown",
      "id": "bb45c66e",
      "metadata": {
        "id": "bb45c66e"
      },
      "source": [
        "# Device Configs"
      ]
    },
    {
      "cell_type": "code",
      "execution_count": null,
      "id": "7877671d",
      "metadata": {
        "colab": {
          "base_uri": "https://localhost:8080/"
        },
        "id": "7877671d",
        "outputId": "71480acd-6d0c-442e-b589-974389999b2f",
        "scrolled": true
      },
      "outputs": [
        {
          "output_type": "stream",
          "name": "stdout",
          "text": [
            "cuda\n"
          ]
        }
      ],
      "source": [
        "# Set device type\n",
        "device = torch.device('cuda' if torch.cuda.is_available() else 'cpu')\n",
        "print(device)"
      ]
    },
    {
      "cell_type": "code",
      "source": [
        "from google.colab import drive\n",
        "\n",
        "drive.mount('/content/gdrive')"
      ],
      "metadata": {
        "colab": {
          "base_uri": "https://localhost:8080/"
        },
        "id": "ZG_gsvMTwJNb",
        "outputId": "c4289c28-f045-4cc0-dd87-d79dd8f95a3c"
      },
      "id": "ZG_gsvMTwJNb",
      "execution_count": null,
      "outputs": [
        {
          "output_type": "stream",
          "name": "stdout",
          "text": [
            "Mounted at /content/gdrive\n"
          ]
        }
      ]
    },
    {
      "cell_type": "code",
      "execution_count": null,
      "id": "274a3eed",
      "metadata": {
        "id": "274a3eed"
      },
      "outputs": [],
      "source": [
        "# Set the path where the data is stored\n",
        "DATASET_PATH = '/content/gdrive/MyDrive/GarbageClassification'\n",
        "# Set the path where the trained model will be stored\n",
        "MODEL_PATH = '/content/gdrive/MyDrive/models/final_model.pth'"
      ]
    },
    {
      "cell_type": "markdown",
      "id": "9becfd0c",
      "metadata": {
        "id": "9becfd0c"
      },
      "source": [
        "# Data preparation"
      ]
    },
    {
      "cell_type": "markdown",
      "id": "40b07ee6",
      "metadata": {
        "id": "40b07ee6"
      },
      "source": [
        "## Get Dataset"
      ]
    },
    {
      "cell_type": "code",
      "execution_count": null,
      "id": "df9afbc6",
      "metadata": {
        "id": "df9afbc6"
      },
      "outputs": [],
      "source": [
        "# Set the input size to match the input layer of the model\n",
        "input_h = 224\n",
        "input_w = 224"
      ]
    },
    {
      "cell_type": "code",
      "execution_count": null,
      "id": "30ee2e97",
      "metadata": {
        "id": "30ee2e97"
      },
      "outputs": [],
      "source": [
        "# Functions for data agumentation\n",
        "data_transforms = {\n",
        "    'original': transforms.Compose([\n",
        "        transforms.ToTensor(),\n",
        "        transforms.Normalize((0.485, 0.456, 0.406), (0.229, 0.224, 0.225))\n",
        "        \n",
        "    ]),\n",
        "    'train': transforms.Compose([\n",
        "        transforms.RandomResizedCrop((input_h, input_w), scale=(0.5, 1)),\n",
        "        transforms.RandomHorizontalFlip(),\n",
        "    ]),\n",
        "    'test': transforms.Compose([\n",
        "        transforms.Resize((input_h, input_w))\n",
        "    ])\n",
        "}"
      ]
    },
    {
      "cell_type": "code",
      "execution_count": null,
      "id": "ec00358a",
      "metadata": {
        "id": "ec00358a"
      },
      "outputs": [],
      "source": [
        "# Function to re-Argument data from already created datasets.\n",
        "class TransformDataset(Dataset):\n",
        "    def __init__(self, dataset, transform):\n",
        "        self.dataset = dataset\n",
        "        self.transform = transform\n",
        "        \n",
        "    def __getitem__(self, index):\n",
        "        img, label = self.dataset[index]\n",
        "        return self.transform(img), label\n",
        "    \n",
        "    def __len__(self):\n",
        "        return len(self.dataset)"
      ]
    },
    {
      "cell_type": "code",
      "execution_count": null,
      "id": "aac3c8a8",
      "metadata": {
        "id": "aac3c8a8"
      },
      "outputs": [],
      "source": [
        "# Get pure dataset with simple normalization\n",
        "orig_dataset = torchvision.datasets.ImageFolder(DATASET_PATH, transform=data_transforms['original'])"
      ]
    },
    {
      "cell_type": "code",
      "execution_count": null,
      "id": "3d7f1323",
      "metadata": {
        "colab": {
          "base_uri": "https://localhost:8080/",
          "height": 351
        },
        "id": "3d7f1323",
        "outputId": "d72f59c4-5dee-47d1-9fc2-cf5b3cd2f302",
        "scrolled": false
      },
      "outputs": [
        {
          "output_type": "stream",
          "name": "stdout",
          "text": [
            "# NUMBER OF TOTAL DATA: 15515\n",
            "# NUMBER OF CLASSES: 12\n",
            "# CLASSES: {0: 'battery', 1: 'biological', 2: 'brown-glass', 3: 'cardboard', 4: 'clothes', 5: 'green-glass', 6: 'metal', 7: 'paper', 8: 'plastic', 9: 'shoes', 10: 'trash', 11: 'white-glass'}\n",
            "paper\n"
          ]
        },
        {
          "output_type": "execute_result",
          "data": {
            "text/plain": [
              "<matplotlib.image.AxesImage at 0x7ff397559e20>"
            ]
          },
          "metadata": {},
          "execution_count": 27
        },
        {
          "output_type": "display_data",
          "data": {
            "text/plain": [
              "<Figure size 432x288 with 1 Axes>"
            ],
            "image/png": "[encoded data removed]"
          },
          "metadata": {
            "needs_background": "light"
          }
        }
      ],
      "source": [
        "# Check Dataset\n",
        "num_total_data = len(orig_dataset)\n",
        "print(f'# NUMBER OF TOTAL DATA: {num_total_data}')\n",
        "\n",
        "num_classes = len(orig_dataset.classes)\n",
        "print(f'# NUMBER OF CLASSES: {num_classes}')\n",
        "\n",
        "idx_to_class = {value: key for key, value in orig_dataset.class_to_idx.items()}\n",
        "print(f'# CLASSES: {idx_to_class}')\n",
        "\n",
        "# Check Data and Label\n",
        "rand_idx = int(torch.randint(0, num_total_data, (1, 1)))\n",
        "\n",
        "unnormalize = transforms.Compose([\n",
        "    transforms.Normalize((0, 0, 0), (1/0.229, 1/0.224, 1/0.225)),\n",
        "    transforms.Normalize((-0.485, -0.456, -0.406), (1, 1, 1))\n",
        "])\n",
        "\n",
        "print(idx_to_class[orig_dataset[rand_idx][1]])\n",
        "plt.imshow(transforms.functional.to_pil_image(unnormalize(orig_dataset[rand_idx][0])))"
      ]
    },
    {
      "cell_type": "markdown",
      "id": "fec8b0bb",
      "metadata": {
        "id": "fec8b0bb"
      },
      "source": [
        "## Split Dataset"
      ]
    },
    {
      "cell_type": "code",
      "execution_count": null,
      "id": "b629a651",
      "metadata": {
        "id": "b629a651"
      },
      "outputs": [],
      "source": [
        "# Set pre-defined proportions for TRAIN / DEV / TEST DATASET\n",
        "train_rate = 0.8\n",
        "dev_rate = 0.1\n",
        "test_rate = 0.1"
      ]
    },
    {
      "cell_type": "code",
      "execution_count": null,
      "id": "cc1860cd",
      "metadata": {
        "id": "cc1860cd"
      },
      "outputs": [],
      "source": [
        "# Function that split data by pre-defined proportions\n",
        "def data_split(orig_dataset, train_rate, dev_rate, test_rate):\n",
        "    if train_rate + dev_rate + test_rate != 1:\n",
        "        raise ValueError\n",
        "    \n",
        "    orig_size = len(orig_dataset)\n",
        "    \n",
        "    test_size, dev_size = int(orig_size * test_rate), int(orig_size * dev_rate)\n",
        "    train_size = int(orig_size - dev_size - test_size)\n",
        "    \n",
        "    train_dataset, dev_dataset, test_dataset = random_split(orig_dataset, [train_size, dev_size, test_size])\n",
        "    \n",
        "    train_dataset = TransformDataset(train_dataset, data_transforms['train'])\n",
        "    dev_dataset = TransformDataset(dev_dataset, data_transforms['test'])\n",
        "    test_dataset = TransformDataset(test_dataset, data_transforms['test'])\n",
        "    \n",
        "    return train_dataset, dev_dataset, test_dataset"
      ]
    },
    {
      "cell_type": "code",
      "execution_count": null,
      "id": "8eeff89b",
      "metadata": {
        "id": "8eeff89b"
      },
      "outputs": [],
      "source": [
        "# Get TRAIN / DEV / TEST DATASET\n",
        "train_dataset, dev_dataset, test_dataset = data_split(orig_dataset, train_rate, dev_rate, test_rate)"
      ]
    },
    {
      "cell_type": "code",
      "execution_count": null,
      "id": "eb5cc73a",
      "metadata": {
        "colab": {
          "base_uri": "https://localhost:8080/"
        },
        "id": "eb5cc73a",
        "outputId": "01610a5f-9069-4818-9d07-deda52e1698a",
        "scrolled": false
      },
      "outputs": [
        {
          "output_type": "stream",
          "name": "stdout",
          "text": [
            "# NUMBER OF TRAIN DATA: 12413\n",
            "# NUMBER OF DEV   DATA: 1551\n",
            "# NUMBER OF TEST  DATA: 1551\n"
          ]
        }
      ],
      "source": [
        "# Check Dataset\n",
        "num_train_data, num_dev_data, num_test_data = len(train_dataset), len(dev_dataset), len(test_dataset)\n",
        "print(f'# NUMBER OF TRAIN DATA: {num_train_data}')\n",
        "print(f'# NUMBER OF DEV   DATA: {num_dev_data}')\n",
        "print(f'# NUMBER OF TEST  DATA: {num_test_data}')"
      ]
    },
    {
      "cell_type": "markdown",
      "id": "f2e53a24",
      "metadata": {
        "id": "f2e53a24"
      },
      "source": [
        "## Get Dataloader"
      ]
    },
    {
      "cell_type": "code",
      "execution_count": null,
      "id": "0bd6168a",
      "metadata": {
        "id": "0bd6168a"
      },
      "outputs": [],
      "source": [
        "# Set batch size\n",
        "batch_size = 32\n",
        "\n",
        "# Get DATALOADER\n",
        "train_dataloader = DataLoader(train_dataset, batch_size, shuffle=True)\n",
        "dev_dataloader = DataLoader(dev_dataset, batch_size, shuffle=False)\n",
        "test_dataloader = DataLoader(test_dataset, batch_size, shuffle=False)"
      ]
    },
    {
      "cell_type": "markdown",
      "id": "55ebbc3e",
      "metadata": {
        "id": "55ebbc3e"
      },
      "source": [
        "# Model"
      ]
    },
    {
      "cell_type": "code",
      "execution_count": null,
      "id": "SxQFtovz0xBR",
      "metadata": {
        "id": "SxQFtovz0xBR"
      },
      "outputs": [],
      "source": [
        "# MODEL\n",
        "class CustomModel(nn.Module):\n",
        "    def __init__(self, num_classes, drop_prop):\n",
        "        super(CustomModel, self).__init__()\n",
        "\n",
        "        # early layer\n",
        "        weights = models.EfficientNet_B0_Weights.IMAGENET1K_V1      # ImageNet으로 학습된 모델 가중치 불러오기\n",
        "        self.model = models.efficientnet_b0(weights=weights)\n",
        "\n",
        "        # Classifier\n",
        "        num_ftrs = self.model.classifier[1].in_features     # classifier 수정\n",
        "        self.model.classifier = nn.Sequential(\n",
        "            nn.Dropout(p=drop_prop),\n",
        "            nn.Linear(num_ftrs, num_classes)\n",
        "        )\n",
        "        \n",
        "        for name, parameter in self.model.named_parameters():\n",
        "            tmp = name.split('.')\n",
        "            if('classifier' in tmp):\n",
        "                parameter.requires_grad = True      # layer 중 classifier은 가중치 학습 O\n",
        "            else:\n",
        "                parameter.requires_grad = False     # early layer은 가중치 학습 X\n",
        "\n",
        "    def forward(self, x):\n",
        "        return self.model(x)"
      ]
    },
    {
      "cell_type": "code",
      "execution_count": null,
      "id": "bcfd8b32",
      "metadata": {
        "id": "bcfd8b32"
      },
      "outputs": [],
      "source": [
        "def get_model(num_classes, drop_prop=0):\n",
        "    model = CustomModel(num_classes, drop_prop)\n",
        "    return model"
      ]
    },
    {
      "cell_type": "code",
      "execution_count": null,
      "id": "5MrFfAx_u8vR",
      "metadata": {
        "id": "5MrFfAx_u8vR"
      },
      "outputs": [],
      "source": [
        "def get_optimizer(model, learning_rate, weight_decay=0):\n",
        "    optimizer = optim.Adam(model.parameters(),\n",
        "                           lr=learning_rate,\n",
        "                           weight_decay=0)\n",
        "    return optimizer"
      ]
    },
    {
      "cell_type": "markdown",
      "id": "bf563590",
      "metadata": {
        "id": "bf563590"
      },
      "source": [
        "# Train"
      ]
    },
    {
      "cell_type": "code",
      "execution_count": null,
      "id": "254efe7b",
      "metadata": {
        "id": "254efe7b"
      },
      "outputs": [],
      "source": [
        "# Function for LambdaLR\n",
        "def decay_func(epoch):\n",
        "    if epoch < 20:\n",
        "        return 0.5 ** 0\n",
        "    elif epoch < 25:\n",
        "        return 0.5 ** 1\n",
        "    elif epoch < 30:\n",
        "        return 0.5 ** 2\n",
        "    else:\n",
        "        return 0.5 ** 4"
      ]
    },
    {
      "cell_type": "code",
      "execution_count": null,
      "id": "b2a3f25c",
      "metadata": {
        "id": "b2a3f25c"
      },
      "outputs": [],
      "source": [
        "def train(model, criterion, optimizer, dataloader):\n",
        "    model.train()\n",
        "\n",
        "    losses, accuracy = 0, 0\n",
        "    for images, labels in tqdm(dataloader):\n",
        "        images, labels  = images.to(device), labels.to(device)\n",
        "\n",
        "        output = model(images)\n",
        "        loss = criterion(output, labels)\n",
        "        losses += loss.item()\n",
        "\n",
        "        accuracy += (output.argmax(1) == labels).type(torch.float).sum().item()\n",
        "\n",
        "        optimizer.zero_grad()\n",
        "        loss.backward()\n",
        "        optimizer.step()\n",
        "\n",
        "    losses, accuracy = losses / len(dataloader), (accuracy / len(dataloader.dataset)) * 100\n",
        "    return losses, accuracy"
      ]
    },
    {
      "cell_type": "code",
      "execution_count": null,
      "id": "6f0611f3",
      "metadata": {
        "id": "6f0611f3"
      },
      "outputs": [],
      "source": [
        "def evaluate(model, criterion, optimizer, dataloader):\n",
        "    model.eval()\n",
        "\n",
        "    losses, accuracy = 0, 0\n",
        "    with torch.no_grad():\n",
        "        for images, labels in tqdm(dataloader):\n",
        "            images, labels = images.to(device), labels.to(device)\n",
        "\n",
        "            output = model(images)\n",
        "            loss = criterion(output, labels)\n",
        "            losses += loss.item()\n",
        "\n",
        "            accuracy += (output.argmax(1) == labels).type(torch.float).sum().item()\n",
        "\n",
        "    losses, accuracy = losses / len(dataloader), (accuracy / len(dataloader.dataset)) * 100\n",
        "    return losses, accuracy"
      ]
    },
    {
      "cell_type": "code",
      "execution_count": null,
      "id": "2f3c787f",
      "metadata": {
        "id": "2f3c787f"
      },
      "outputs": [],
      "source": [
        "dropout = 0.3\n",
        "learning_rate = 0.0004426\n",
        "weight_decay =0.00001\n",
        "epochs = 40"
      ]
    },
    {
      "cell_type": "code",
      "execution_count": null,
      "id": "9e52ddde",
      "metadata": {
        "id": "9e52ddde"
      },
      "outputs": [],
      "source": [
        "def fit():    \n",
        "    # History\n",
        "    \n",
        "    # Model\n",
        "    model = get_model(num_classes, dropout).to(device)\n",
        "\n",
        "    # Loss Function\n",
        "    criterion = nn.CrossEntropyLoss()   # CrossEntropy\n",
        "\n",
        "    # Optimizer \n",
        "    optimizer = get_optimizer(model, learning_rate, weight_decay)   # Adam, weight decay\n",
        "    scheduler = optim.lr_scheduler.LambdaLR(optimizer, lr_lambda = decay_func)  # lr decay\n",
        "    \n",
        "    # History\n",
        "    train_losses = []\n",
        "    train_accuracies = []\n",
        "    dev_losses = []\n",
        "    dev_accuracies = []\n",
        "    \n",
        "    for epoch in range(epochs):\n",
        "        # Train\n",
        "        train_loss, train_accuracy = train(model, criterion, optimizer, train_dataloader)\n",
        "        train_losses.append(train_loss)\n",
        "        train_accuracies.append(train_accuracy)\n",
        "        print(f\"# TRAIN     (EPOCH: {epoch + 1}/{epochs}) | LOSS: {train_loss:.4f} | ACCURACY: {train_accuracy:.4f}% \")\n",
        "\n",
        "        # Dev\n",
        "        dev_loss, dev_accuracy = evaluate(model, criterion, optimizer, dev_dataloader)\n",
        "        dev_losses.append(dev_loss)\n",
        "        dev_accuracies.append(dev_accuracy)\n",
        "        print(f\"# DEV (EPOCH: {epoch + 1}/{epochs}) | LOSS: {dev_loss:.4f} | ACCURACY: {dev_accuracy:.4f}% \")\n",
        "        \n",
        "        # Leaning Rate Decay를 위한 Scheduler 갱신\n",
        "        scheduler.step()\n",
        "\n",
        "    # Test\n",
        "    test_loss, test_accuracy = evaluate(model, criterion, optimizer, test_dataloader)\n",
        "    print(f\"# SUMMARY\")\n",
        "    print(f\"# FINAL TRAIN | LOSS: {train_loss:.4f} | ACCURACY: {train_accuracy:.4f}% \")\n",
        "    print(f\"# FINAL DEV   | LOSS: {dev_loss:.4f} | ACCURACY: {dev_accuracy:.4f}% \")\n",
        "    print(f\"# FINAL TEST  | LOSS: {test_loss:.4f} | ACCURACY: {test_accuracy:.4f}%\")\n",
        "    \n",
        "    # 모델 저장\n",
        "    torch.save(model.state_dict(), os.path.join(MODEL_PATH, 'final_model.pth'))\n",
        "    \n",
        "    return train_losses, train_accuracies, dev_losses, dev_accuracies"
      ]
    },
    {
      "cell_type": "code",
      "execution_count": null,
      "id": "93d1b76c",
      "metadata": {
        "scrolled": true,
        "colab": {
          "referenced_widgets": [
            "d88bf7645cbb4356928a394dceed1a27",
            "ffdbb9aeff4d4f0189d2d93f15cf85c4",
            "9ed00dbee1294e83a5fc492ce9082cc1",
            "ac09b8a38a3b4004bed7571592608b0b",
            "399bbac868724deb9b5322e7f2a72065",
            "f839e122246840beb9e541576664db13",
            "cc618101dc514191963311e174196d0d",
            "78b81f0ef1364aefaaeb7e0e437a1096",
            "ae0c893070144d9f82e7c6025b4f735a",
            "d1885930db0743c19ee33a1817fb1d64",
            "7c053fee2fa04e0085bf9460e03e2ea4",
            "7848aaf1f7ed45fcada2282245fc4b05",
            "720a666a5e43456692bc2a7655c14abc",
            "d2b9d9f831aa43f9a6da5d59bd6085bc",
            "855852025e514b7c98390781936183a0",
            "1f984c2aa5694138ac6f9b106afaaa44",
            "21d17534723b4f8d9523791f68ab8c8f",
            "1e2f1521347845f7bcfc9adb0bf048c9",
            "622fb86465fd4f92af5ada82f1d9c00e",
            "7d49c66b8c7f46afbac82ea1e0f3111b",
            "d23a6acd40304a3ab9c7b38fed091b07",
            "3544a8c7af524f0aa080f07c2bd2a155",
            "50f46710d5cf44938b611eab5f991f3d",
            "7513d71ec7e14fde92adb7b3075e920b",
            "0801e5945ab04206a1b4da42154e715e",
            "4385630484994974823eeb0d9f01c299",
            "e7cc978f860a4cde9c36fc33ea978f5e",
            "c89c6c87f68b4287a50deeecb12f6c42",
            "5cabf5f5b8fc46bca776125bda303faf",
            "e1a59b562265488a9fd679770c002bd7",
            "7a003f32dbcc4da68b52b74be10c306f",
            "a5aef1d34a864c0fb4b8e68673b72e0d",
            "94cb971635e5455a846e057d3f985fba",
            "e7d5f018e69942d9951b14eace9bb033",
            "71a1eac6a6d0489cb762ea37e61666a1",
            "38ebaaf8c133465597b5e6fb20bef769",
            "c6c854f041c14c749ee4daac5c2353ea",
            "aa733f0742a14d9893744b214a083dfd",
            "357341ac8c4b4cecb96e990f1ed7b3b6",
            "683a3784329c4c7a8fc0b24f80f5af67",
            "93053300978c47cf9d11a12bf5824458",
            "1ddf686bb55f44c49fde9434321b7957",
            "2c6872553ed642c1979e2fe76ea5a66e",
            "417486e7c6404264b587925e7d672842",
            "a65d9c65754847788101b663aefa010c",
            "5e43550f0a6742208bfee65a06710fc9",
            "222e49fab014496c9fc94b9f2f38bfaa",
            "502df24e0d02401ebc751590fe625aa3",
            "10c9b386b2334ee588c7018963ff032b",
            "cdb56d0498fe454b9116ead449cc9653",
            "ee38730dc1c44cfdb2e8c32583bf496f",
            "5afe9540069b44a892845aec334203c0",
            "6fd81d584e324d3b8eb0cf5eec9b24e2",
            "57493ef0b7f9458481a3c06622bdbfbf",
            "365baf517f2e4fd08ef099fe46d8f72b",
            "e74ea6f80e814f51ae2b215f33ff575c",
            "2cafa83973a24d61bbed5317ba913605",
            "8f45272e88d94407b571979d2eff2d37",
            "a4817efeff3d463288020af364af3a93",
            "4b43cb26a5d8451280d38058f448d674",
            "a32a67f21be5488289d7a21aee8662fc",
            "9d68b8b9ff87491e818347dc697e00c5",
            "8b50126b736f4e558a7b97f3132f29c4",
            "8358f8b790df4b8fafe84585fbd46d85",
            "2eac6619e0614efc9d6d6d57d41c7694",
            "8a9e438fd1ff4317bf5a130ab07b7c22",
            "b2c8b3a3f8c34bdf97c7f543916e0f4d",
            "0ce30ec18f714ac08aa9f1b21c4c83ba",
            "8238c967d0d34cb5bcf48c82b9c64565",
            "57e12108cc244a12af30fe0535c664b2",
            "3224e0685a20479a8a685cd627795940",
            "d1dbb6d8a4f34733aae12b81219ae0a7",
            "f3e7deb73e4748e9aa1d1cc7ba2b7694",
            "39e24af9fc83405eaf6127ff1b85ea38",
            "ed39529609684de5b52746d75921b631",
            "f3d8acd9881144139b2878bde92eb71d",
            "31ad7ffe04c04029bf31ef8c749d85e2",
            "97525c1327214219bf7f5358574be853",
            "145b326a2ce846d59b5e1c22b0a3e495",
            "a545466d65fa4c5b9a5b7476053b7961",
            "43255f814bbe4a48b18f566f146149c8"
          ]
        },
        "id": "93d1b76c",
        "outputId": "71e6903b-835d-434d-cab7-f9a335ac3a02"
      },
      "outputs": [
        {
          "data": {
            "application/vnd.jupyter.widget-view+json": {
              "model_id": "d88bf7645cbb4356928a394dceed1a27",
              "version_major": 2,
              "version_minor": 0
            },
            "text/plain": [
              "  0%|          | 0/388 [00:00<?, ?it/s]"
            ]
          },
          "metadata": {},
          "output_type": "display_data"
        },
        {
          "name": "stdout",
          "output_type": "stream",
          "text": [
            "# TRAIN     (EPOCH: 1/40) | LOSS: 0.9486 | ACCURACY: 76.4360% \n"
          ]
        },
        {
          "data": {
            "application/vnd.jupyter.widget-view+json": {
              "model_id": "ffdbb9aeff4d4f0189d2d93f15cf85c4",
              "version_major": 2,
              "version_minor": 0
            },
            "text/plain": [
              "  0%|          | 0/49 [00:00<?, ?it/s]"
            ]
          },
          "metadata": {},
          "output_type": "display_data"
        },
        {
          "name": "stdout",
          "output_type": "stream",
          "text": [
            "# DEV (EPOCH: 1/40) | LOSS: 0.4629 | ACCURACY: 89.5551% \n"
          ]
        },
        {
          "data": {
            "application/vnd.jupyter.widget-view+json": {
              "model_id": "9ed00dbee1294e83a5fc492ce9082cc1",
              "version_major": 2,
              "version_minor": 0
            },
            "text/plain": [
              "  0%|          | 0/388 [00:00<?, ?it/s]"
            ]
          },
          "metadata": {},
          "output_type": "display_data"
        },
        {
          "name": "stdout",
          "output_type": "stream",
          "text": [
            "# TRAIN     (EPOCH: 2/40) | LOSS: 0.4600 | ACCURACY: 88.2704% \n"
          ]
        },
        {
          "data": {
            "application/vnd.jupyter.widget-view+json": {
              "model_id": "ac09b8a38a3b4004bed7571592608b0b",
              "version_major": 2,
              "version_minor": 0
            },
            "text/plain": [
              "  0%|          | 0/49 [00:00<?, ?it/s]"
            ]
          },
          "metadata": {},
          "output_type": "display_data"
        },
        {
          "name": "stdout",
          "output_type": "stream",
          "text": [
            "# DEV (EPOCH: 2/40) | LOSS: 0.3228 | ACCURACY: 92.6499% \n"
          ]
        },
        {
          "data": {
            "application/vnd.jupyter.widget-view+json": {
              "model_id": "399bbac868724deb9b5322e7f2a72065",
              "version_major": 2,
              "version_minor": 0
            },
            "text/plain": [
              "  0%|          | 0/388 [00:00<?, ?it/s]"
            ]
          },
          "metadata": {},
          "output_type": "display_data"
        },
        {
          "name": "stdout",
          "output_type": "stream",
          "text": [
            "# TRAIN     (EPOCH: 3/40) | LOSS: 0.3773 | ACCURACY: 89.3740% \n"
          ]
        },
        {
          "data": {
            "application/vnd.jupyter.widget-view+json": {
              "model_id": "f839e122246840beb9e541576664db13",
              "version_major": 2,
              "version_minor": 0
            },
            "text/plain": [
              "  0%|          | 0/49 [00:00<?, ?it/s]"
            ]
          },
          "metadata": {},
          "output_type": "display_data"
        },
        {
          "name": "stdout",
          "output_type": "stream",
          "text": [
            "# DEV (EPOCH: 3/40) | LOSS: 0.2647 | ACCURACY: 93.2302% \n"
          ]
        },
        {
          "data": {
            "application/vnd.jupyter.widget-view+json": {
              "model_id": "cc618101dc514191963311e174196d0d",
              "version_major": 2,
              "version_minor": 0
            },
            "text/plain": [
              "  0%|          | 0/388 [00:00<?, ?it/s]"
            ]
          },
          "metadata": {},
          "output_type": "display_data"
        },
        {
          "name": "stdout",
          "output_type": "stream",
          "text": [
            "# TRAIN     (EPOCH: 4/40) | LOSS: 0.3322 | ACCURACY: 90.4374% \n"
          ]
        },
        {
          "data": {
            "application/vnd.jupyter.widget-view+json": {
              "model_id": "78b81f0ef1364aefaaeb7e0e437a1096",
              "version_major": 2,
              "version_minor": 0
            },
            "text/plain": [
              "  0%|          | 0/49 [00:00<?, ?it/s]"
            ]
          },
          "metadata": {},
          "output_type": "display_data"
        },
        {
          "name": "stdout",
          "output_type": "stream",
          "text": [
            "# DEV (EPOCH: 4/40) | LOSS: 0.2425 | ACCURACY: 93.6815% \n"
          ]
        },
        {
          "data": {
            "application/vnd.jupyter.widget-view+json": {
              "model_id": "ae0c893070144d9f82e7c6025b4f735a",
              "version_major": 2,
              "version_minor": 0
            },
            "text/plain": [
              "  0%|          | 0/388 [00:00<?, ?it/s]"
            ]
          },
          "metadata": {},
          "output_type": "display_data"
        },
        {
          "name": "stdout",
          "output_type": "stream",
          "text": [
            "# TRAIN     (EPOCH: 5/40) | LOSS: 0.3051 | ACCURACY: 91.2914% \n"
          ]
        },
        {
          "data": {
            "application/vnd.jupyter.widget-view+json": {
              "model_id": "d1885930db0743c19ee33a1817fb1d64",
              "version_major": 2,
              "version_minor": 0
            },
            "text/plain": [
              "  0%|          | 0/49 [00:00<?, ?it/s]"
            ]
          },
          "metadata": {},
          "output_type": "display_data"
        },
        {
          "name": "stdout",
          "output_type": "stream",
          "text": [
            "# DEV (EPOCH: 5/40) | LOSS: 0.2279 | ACCURACY: 93.8104% \n"
          ]
        },
        {
          "data": {
            "application/vnd.jupyter.widget-view+json": {
              "model_id": "7c053fee2fa04e0085bf9460e03e2ea4",
              "version_major": 2,
              "version_minor": 0
            },
            "text/plain": [
              "  0%|          | 0/388 [00:00<?, ?it/s]"
            ]
          },
          "metadata": {},
          "output_type": "display_data"
        },
        {
          "name": "stdout",
          "output_type": "stream",
          "text": [
            "# TRAIN     (EPOCH: 6/40) | LOSS: 0.2944 | ACCURACY: 91.2189% \n"
          ]
        },
        {
          "data": {
            "application/vnd.jupyter.widget-view+json": {
              "model_id": "7848aaf1f7ed45fcada2282245fc4b05",
              "version_major": 2,
              "version_minor": 0
            },
            "text/plain": [
              "  0%|          | 0/49 [00:00<?, ?it/s]"
            ]
          },
          "metadata": {},
          "output_type": "display_data"
        },
        {
          "name": "stdout",
          "output_type": "stream",
          "text": [
            "# DEV (EPOCH: 6/40) | LOSS: 0.2131 | ACCURACY: 94.3262% \n"
          ]
        },
        {
          "data": {
            "application/vnd.jupyter.widget-view+json": {
              "model_id": "720a666a5e43456692bc2a7655c14abc",
              "version_major": 2,
              "version_minor": 0
            },
            "text/plain": [
              "  0%|          | 0/388 [00:00<?, ?it/s]"
            ]
          },
          "metadata": {},
          "output_type": "display_data"
        },
        {
          "name": "stdout",
          "output_type": "stream",
          "text": [
            "# TRAIN     (EPOCH: 7/40) | LOSS: 0.2815 | ACCURACY: 91.3397% \n"
          ]
        },
        {
          "data": {
            "application/vnd.jupyter.widget-view+json": {
              "model_id": "d2b9d9f831aa43f9a6da5d59bd6085bc",
              "version_major": 2,
              "version_minor": 0
            },
            "text/plain": [
              "  0%|          | 0/49 [00:00<?, ?it/s]"
            ]
          },
          "metadata": {},
          "output_type": "display_data"
        },
        {
          "name": "stdout",
          "output_type": "stream",
          "text": [
            "# DEV (EPOCH: 7/40) | LOSS: 0.2099 | ACCURACY: 93.9394% \n"
          ]
        },
        {
          "data": {
            "application/vnd.jupyter.widget-view+json": {
              "model_id": "855852025e514b7c98390781936183a0",
              "version_major": 2,
              "version_minor": 0
            },
            "text/plain": [
              "  0%|          | 0/388 [00:00<?, ?it/s]"
            ]
          },
          "metadata": {},
          "output_type": "display_data"
        },
        {
          "name": "stdout",
          "output_type": "stream",
          "text": [
            "# TRAIN     (EPOCH: 8/40) | LOSS: 0.2769 | ACCURACY: 91.4283% \n"
          ]
        },
        {
          "data": {
            "application/vnd.jupyter.widget-view+json": {
              "model_id": "1f984c2aa5694138ac6f9b106afaaa44",
              "version_major": 2,
              "version_minor": 0
            },
            "text/plain": [
              "  0%|          | 0/49 [00:00<?, ?it/s]"
            ]
          },
          "metadata": {},
          "output_type": "display_data"
        },
        {
          "name": "stdout",
          "output_type": "stream",
          "text": [
            "# DEV (EPOCH: 8/40) | LOSS: 0.2001 | ACCURACY: 94.6486% \n"
          ]
        },
        {
          "data": {
            "application/vnd.jupyter.widget-view+json": {
              "model_id": "21d17534723b4f8d9523791f68ab8c8f",
              "version_major": 2,
              "version_minor": 0
            },
            "text/plain": [
              "  0%|          | 0/388 [00:00<?, ?it/s]"
            ]
          },
          "metadata": {},
          "output_type": "display_data"
        },
        {
          "name": "stdout",
          "output_type": "stream",
          "text": [
            "# TRAIN     (EPOCH: 9/40) | LOSS: 0.2654 | ACCURACY: 91.8070% \n"
          ]
        },
        {
          "data": {
            "application/vnd.jupyter.widget-view+json": {
              "model_id": "1e2f1521347845f7bcfc9adb0bf048c9",
              "version_major": 2,
              "version_minor": 0
            },
            "text/plain": [
              "  0%|          | 0/49 [00:00<?, ?it/s]"
            ]
          },
          "metadata": {},
          "output_type": "display_data"
        },
        {
          "name": "stdout",
          "output_type": "stream",
          "text": [
            "# DEV (EPOCH: 9/40) | LOSS: 0.1966 | ACCURACY: 94.3262% \n"
          ]
        },
        {
          "data": {
            "application/vnd.jupyter.widget-view+json": {
              "model_id": "622fb86465fd4f92af5ada82f1d9c00e",
              "version_major": 2,
              "version_minor": 0
            },
            "text/plain": [
              "  0%|          | 0/388 [00:00<?, ?it/s]"
            ]
          },
          "metadata": {},
          "output_type": "display_data"
        },
        {
          "name": "stdout",
          "output_type": "stream",
          "text": [
            "# TRAIN     (EPOCH: 10/40) | LOSS: 0.2562 | ACCURACY: 92.3870% \n"
          ]
        },
        {
          "data": {
            "application/vnd.jupyter.widget-view+json": {
              "model_id": "7d49c66b8c7f46afbac82ea1e0f3111b",
              "version_major": 2,
              "version_minor": 0
            },
            "text/plain": [
              "  0%|          | 0/49 [00:00<?, ?it/s]"
            ]
          },
          "metadata": {},
          "output_type": "display_data"
        },
        {
          "name": "stdout",
          "output_type": "stream",
          "text": [
            "# DEV (EPOCH: 10/40) | LOSS: 0.1882 | ACCURACY: 94.9065% \n"
          ]
        },
        {
          "data": {
            "application/vnd.jupyter.widget-view+json": {
              "model_id": "d23a6acd40304a3ab9c7b38fed091b07",
              "version_major": 2,
              "version_minor": 0
            },
            "text/plain": [
              "  0%|          | 0/388 [00:00<?, ?it/s]"
            ]
          },
          "metadata": {},
          "output_type": "display_data"
        },
        {
          "name": "stdout",
          "output_type": "stream",
          "text": [
            "# TRAIN     (EPOCH: 11/40) | LOSS: 0.2592 | ACCURACY: 91.9600% \n"
          ]
        },
        {
          "data": {
            "application/vnd.jupyter.widget-view+json": {
              "model_id": "3544a8c7af524f0aa080f07c2bd2a155",
              "version_major": 2,
              "version_minor": 0
            },
            "text/plain": [
              "  0%|          | 0/49 [00:00<?, ?it/s]"
            ]
          },
          "metadata": {},
          "output_type": "display_data"
        },
        {
          "name": "stdout",
          "output_type": "stream",
          "text": [
            "# DEV (EPOCH: 11/40) | LOSS: 0.1956 | ACCURACY: 94.1973% \n"
          ]
        },
        {
          "data": {
            "application/vnd.jupyter.widget-view+json": {
              "model_id": "50f46710d5cf44938b611eab5f991f3d",
              "version_major": 2,
              "version_minor": 0
            },
            "text/plain": [
              "  0%|          | 0/388 [00:00<?, ?it/s]"
            ]
          },
          "metadata": {},
          "output_type": "display_data"
        },
        {
          "name": "stdout",
          "output_type": "stream",
          "text": [
            "# TRAIN     (EPOCH: 12/40) | LOSS: 0.2458 | ACCURACY: 92.2823% \n"
          ]
        },
        {
          "data": {
            "application/vnd.jupyter.widget-view+json": {
              "model_id": "7513d71ec7e14fde92adb7b3075e920b",
              "version_major": 2,
              "version_minor": 0
            },
            "text/plain": [
              "  0%|          | 0/49 [00:00<?, ?it/s]"
            ]
          },
          "metadata": {},
          "output_type": "display_data"
        },
        {
          "name": "stdout",
          "output_type": "stream",
          "text": [
            "# DEV (EPOCH: 12/40) | LOSS: 0.1847 | ACCURACY: 94.4552% \n"
          ]
        },
        {
          "data": {
            "application/vnd.jupyter.widget-view+json": {
              "model_id": "0801e5945ab04206a1b4da42154e715e",
              "version_major": 2,
              "version_minor": 0
            },
            "text/plain": [
              "  0%|          | 0/388 [00:00<?, ?it/s]"
            ]
          },
          "metadata": {},
          "output_type": "display_data"
        },
        {
          "name": "stdout",
          "output_type": "stream",
          "text": [
            "# TRAIN     (EPOCH: 13/40) | LOSS: 0.2460 | ACCURACY: 92.3709% \n"
          ]
        },
        {
          "data": {
            "application/vnd.jupyter.widget-view+json": {
              "model_id": "4385630484994974823eeb0d9f01c299",
              "version_major": 2,
              "version_minor": 0
            },
            "text/plain": [
              "  0%|          | 0/49 [00:00<?, ?it/s]"
            ]
          },
          "metadata": {},
          "output_type": "display_data"
        },
        {
          "name": "stdout",
          "output_type": "stream",
          "text": [
            "# DEV (EPOCH: 13/40) | LOSS: 0.1804 | ACCURACY: 94.5197% \n"
          ]
        },
        {
          "data": {
            "application/vnd.jupyter.widget-view+json": {
              "model_id": "e7cc978f860a4cde9c36fc33ea978f5e",
              "version_major": 2,
              "version_minor": 0
            },
            "text/plain": [
              "  0%|          | 0/388 [00:00<?, ?it/s]"
            ]
          },
          "metadata": {},
          "output_type": "display_data"
        },
        {
          "name": "stdout",
          "output_type": "stream",
          "text": [
            "# TRAIN     (EPOCH: 14/40) | LOSS: 0.2373 | ACCURACY: 92.4917% \n"
          ]
        },
        {
          "data": {
            "application/vnd.jupyter.widget-view+json": {
              "model_id": "c89c6c87f68b4287a50deeecb12f6c42",
              "version_major": 2,
              "version_minor": 0
            },
            "text/plain": [
              "  0%|          | 0/49 [00:00<?, ?it/s]"
            ]
          },
          "metadata": {},
          "output_type": "display_data"
        },
        {
          "name": "stdout",
          "output_type": "stream",
          "text": [
            "# DEV (EPOCH: 14/40) | LOSS: 0.1803 | ACCURACY: 94.4552% \n"
          ]
        },
        {
          "data": {
            "application/vnd.jupyter.widget-view+json": {
              "model_id": "5cabf5f5b8fc46bca776125bda303faf",
              "version_major": 2,
              "version_minor": 0
            },
            "text/plain": [
              "  0%|          | 0/388 [00:00<?, ?it/s]"
            ]
          },
          "metadata": {},
          "output_type": "display_data"
        },
        {
          "name": "stdout",
          "output_type": "stream",
          "text": [
            "# TRAIN     (EPOCH: 15/40) | LOSS: 0.2344 | ACCURACY: 92.6770% \n"
          ]
        },
        {
          "data": {
            "application/vnd.jupyter.widget-view+json": {
              "model_id": "e1a59b562265488a9fd679770c002bd7",
              "version_major": 2,
              "version_minor": 0
            },
            "text/plain": [
              "  0%|          | 0/49 [00:00<?, ?it/s]"
            ]
          },
          "metadata": {},
          "output_type": "display_data"
        },
        {
          "name": "stdout",
          "output_type": "stream",
          "text": [
            "# DEV (EPOCH: 15/40) | LOSS: 0.1802 | ACCURACY: 94.9710% \n"
          ]
        },
        {
          "data": {
            "application/vnd.jupyter.widget-view+json": {
              "model_id": "7a003f32dbcc4da68b52b74be10c306f",
              "version_major": 2,
              "version_minor": 0
            },
            "text/plain": [
              "  0%|          | 0/388 [00:00<?, ?it/s]"
            ]
          },
          "metadata": {},
          "output_type": "display_data"
        },
        {
          "name": "stdout",
          "output_type": "stream",
          "text": [
            "# TRAIN     (EPOCH: 16/40) | LOSS: 0.2313 | ACCURACY: 92.4998% \n"
          ]
        },
        {
          "data": {
            "application/vnd.jupyter.widget-view+json": {
              "model_id": "a5aef1d34a864c0fb4b8e68673b72e0d",
              "version_major": 2,
              "version_minor": 0
            },
            "text/plain": [
              "  0%|          | 0/49 [00:00<?, ?it/s]"
            ]
          },
          "metadata": {},
          "output_type": "display_data"
        },
        {
          "name": "stdout",
          "output_type": "stream",
          "text": [
            "# DEV (EPOCH: 16/40) | LOSS: 0.1767 | ACCURACY: 95.3578% \n"
          ]
        },
        {
          "data": {
            "application/vnd.jupyter.widget-view+json": {
              "model_id": "94cb971635e5455a846e057d3f985fba",
              "version_major": 2,
              "version_minor": 0
            },
            "text/plain": [
              "  0%|          | 0/388 [00:00<?, ?it/s]"
            ]
          },
          "metadata": {},
          "output_type": "display_data"
        },
        {
          "name": "stdout",
          "output_type": "stream",
          "text": [
            "# TRAIN     (EPOCH: 17/40) | LOSS: 0.2221 | ACCURACY: 92.8220% \n"
          ]
        },
        {
          "data": {
            "application/vnd.jupyter.widget-view+json": {
              "model_id": "e7d5f018e69942d9951b14eace9bb033",
              "version_major": 2,
              "version_minor": 0
            },
            "text/plain": [
              "  0%|          | 0/49 [00:00<?, ?it/s]"
            ]
          },
          "metadata": {},
          "output_type": "display_data"
        },
        {
          "name": "stdout",
          "output_type": "stream",
          "text": [
            "# DEV (EPOCH: 17/40) | LOSS: 0.1736 | ACCURACY: 95.0999% \n"
          ]
        },
        {
          "data": {
            "application/vnd.jupyter.widget-view+json": {
              "model_id": "71a1eac6a6d0489cb762ea37e61666a1",
              "version_major": 2,
              "version_minor": 0
            },
            "text/plain": [
              "  0%|          | 0/388 [00:00<?, ?it/s]"
            ]
          },
          "metadata": {},
          "output_type": "display_data"
        },
        {
          "name": "stdout",
          "output_type": "stream",
          "text": [
            "# TRAIN     (EPOCH: 18/40) | LOSS: 0.2337 | ACCURACY: 92.6690% \n"
          ]
        },
        {
          "data": {
            "application/vnd.jupyter.widget-view+json": {
              "model_id": "38ebaaf8c133465597b5e6fb20bef769",
              "version_major": 2,
              "version_minor": 0
            },
            "text/plain": [
              "  0%|          | 0/49 [00:00<?, ?it/s]"
            ]
          },
          "metadata": {},
          "output_type": "display_data"
        },
        {
          "name": "stdout",
          "output_type": "stream",
          "text": [
            "# DEV (EPOCH: 18/40) | LOSS: 0.1700 | ACCURACY: 95.0999% \n"
          ]
        },
        {
          "data": {
            "application/vnd.jupyter.widget-view+json": {
              "model_id": "c6c854f041c14c749ee4daac5c2353ea",
              "version_major": 2,
              "version_minor": 0
            },
            "text/plain": [
              "  0%|          | 0/388 [00:00<?, ?it/s]"
            ]
          },
          "metadata": {},
          "output_type": "display_data"
        },
        {
          "name": "stdout",
          "output_type": "stream",
          "text": [
            "# TRAIN     (EPOCH: 19/40) | LOSS: 0.2228 | ACCURACY: 93.0315% \n"
          ]
        },
        {
          "data": {
            "application/vnd.jupyter.widget-view+json": {
              "model_id": "aa733f0742a14d9893744b214a083dfd",
              "version_major": 2,
              "version_minor": 0
            },
            "text/plain": [
              "  0%|          | 0/49 [00:00<?, ?it/s]"
            ]
          },
          "metadata": {},
          "output_type": "display_data"
        },
        {
          "name": "stdout",
          "output_type": "stream",
          "text": [
            "# DEV (EPOCH: 19/40) | LOSS: 0.1717 | ACCURACY: 95.7447% \n"
          ]
        },
        {
          "data": {
            "application/vnd.jupyter.widget-view+json": {
              "model_id": "357341ac8c4b4cecb96e990f1ed7b3b6",
              "version_major": 2,
              "version_minor": 0
            },
            "text/plain": [
              "  0%|          | 0/388 [00:00<?, ?it/s]"
            ]
          },
          "metadata": {},
          "output_type": "display_data"
        },
        {
          "name": "stdout",
          "output_type": "stream",
          "text": [
            "# TRAIN     (EPOCH: 20/40) | LOSS: 0.2237 | ACCURACY: 92.7173% \n"
          ]
        },
        {
          "data": {
            "application/vnd.jupyter.widget-view+json": {
              "model_id": "683a3784329c4c7a8fc0b24f80f5af67",
              "version_major": 2,
              "version_minor": 0
            },
            "text/plain": [
              "  0%|          | 0/49 [00:00<?, ?it/s]"
            ]
          },
          "metadata": {},
          "output_type": "display_data"
        },
        {
          "name": "stdout",
          "output_type": "stream",
          "text": [
            "# DEV (EPOCH: 20/40) | LOSS: 0.1682 | ACCURACY: 95.5513% \n"
          ]
        },
        {
          "data": {
            "application/vnd.jupyter.widget-view+json": {
              "model_id": "93053300978c47cf9d11a12bf5824458",
              "version_major": 2,
              "version_minor": 0
            },
            "text/plain": [
              "  0%|          | 0/388 [00:00<?, ?it/s]"
            ]
          },
          "metadata": {},
          "output_type": "display_data"
        },
        {
          "name": "stdout",
          "output_type": "stream",
          "text": [
            "# TRAIN     (EPOCH: 21/40) | LOSS: 0.2183 | ACCURACY: 92.9912% \n"
          ]
        },
        {
          "data": {
            "application/vnd.jupyter.widget-view+json": {
              "model_id": "1ddf686bb55f44c49fde9434321b7957",
              "version_major": 2,
              "version_minor": 0
            },
            "text/plain": [
              "  0%|          | 0/49 [00:00<?, ?it/s]"
            ]
          },
          "metadata": {},
          "output_type": "display_data"
        },
        {
          "name": "stdout",
          "output_type": "stream",
          "text": [
            "# DEV (EPOCH: 21/40) | LOSS: 0.1666 | ACCURACY: 95.5513% \n"
          ]
        },
        {
          "data": {
            "application/vnd.jupyter.widget-view+json": {
              "model_id": "2c6872553ed642c1979e2fe76ea5a66e",
              "version_major": 2,
              "version_minor": 0
            },
            "text/plain": [
              "  0%|          | 0/388 [00:00<?, ?it/s]"
            ]
          },
          "metadata": {},
          "output_type": "display_data"
        },
        {
          "name": "stdout",
          "output_type": "stream",
          "text": [
            "# TRAIN     (EPOCH: 22/40) | LOSS: 0.2271 | ACCURACY: 92.7818% \n"
          ]
        },
        {
          "data": {
            "application/vnd.jupyter.widget-view+json": {
              "model_id": "417486e7c6404264b587925e7d672842",
              "version_major": 2,
              "version_minor": 0
            },
            "text/plain": [
              "  0%|          | 0/49 [00:00<?, ?it/s]"
            ]
          },
          "metadata": {},
          "output_type": "display_data"
        },
        {
          "name": "stdout",
          "output_type": "stream",
          "text": [
            "# DEV (EPOCH: 22/40) | LOSS: 0.1701 | ACCURACY: 95.1644% \n"
          ]
        },
        {
          "data": {
            "application/vnd.jupyter.widget-view+json": {
              "model_id": "a65d9c65754847788101b663aefa010c",
              "version_major": 2,
              "version_minor": 0
            },
            "text/plain": [
              "  0%|          | 0/388 [00:00<?, ?it/s]"
            ]
          },
          "metadata": {},
          "output_type": "display_data"
        },
        {
          "name": "stdout",
          "output_type": "stream",
          "text": [
            "# TRAIN     (EPOCH: 23/40) | LOSS: 0.2159 | ACCURACY: 93.0637% \n"
          ]
        },
        {
          "data": {
            "application/vnd.jupyter.widget-view+json": {
              "model_id": "5e43550f0a6742208bfee65a06710fc9",
              "version_major": 2,
              "version_minor": 0
            },
            "text/plain": [
              "  0%|          | 0/49 [00:00<?, ?it/s]"
            ]
          },
          "metadata": {},
          "output_type": "display_data"
        },
        {
          "name": "stdout",
          "output_type": "stream",
          "text": [
            "# DEV (EPOCH: 23/40) | LOSS: 0.1674 | ACCURACY: 95.4223% \n"
          ]
        },
        {
          "data": {
            "application/vnd.jupyter.widget-view+json": {
              "model_id": "222e49fab014496c9fc94b9f2f38bfaa",
              "version_major": 2,
              "version_minor": 0
            },
            "text/plain": [
              "  0%|          | 0/388 [00:00<?, ?it/s]"
            ]
          },
          "metadata": {},
          "output_type": "display_data"
        },
        {
          "name": "stdout",
          "output_type": "stream",
          "text": [
            "# TRAIN     (EPOCH: 24/40) | LOSS: 0.2238 | ACCURACY: 92.5079% \n"
          ]
        },
        {
          "data": {
            "application/vnd.jupyter.widget-view+json": {
              "model_id": "502df24e0d02401ebc751590fe625aa3",
              "version_major": 2,
              "version_minor": 0
            },
            "text/plain": [
              "  0%|          | 0/49 [00:00<?, ?it/s]"
            ]
          },
          "metadata": {},
          "output_type": "display_data"
        },
        {
          "name": "stdout",
          "output_type": "stream",
          "text": [
            "# DEV (EPOCH: 24/40) | LOSS: 0.1608 | ACCURACY: 95.6157% \n"
          ]
        },
        {
          "data": {
            "application/vnd.jupyter.widget-view+json": {
              "model_id": "10c9b386b2334ee588c7018963ff032b",
              "version_major": 2,
              "version_minor": 0
            },
            "text/plain": [
              "  0%|          | 0/388 [00:00<?, ?it/s]"
            ]
          },
          "metadata": {},
          "output_type": "display_data"
        },
        {
          "name": "stdout",
          "output_type": "stream",
          "text": [
            "# TRAIN     (EPOCH: 25/40) | LOSS: 0.2096 | ACCURACY: 93.1926% \n"
          ]
        },
        {
          "data": {
            "application/vnd.jupyter.widget-view+json": {
              "model_id": "cdb56d0498fe454b9116ead449cc9653",
              "version_major": 2,
              "version_minor": 0
            },
            "text/plain": [
              "  0%|          | 0/49 [00:00<?, ?it/s]"
            ]
          },
          "metadata": {},
          "output_type": "display_data"
        },
        {
          "name": "stdout",
          "output_type": "stream",
          "text": [
            "# DEV (EPOCH: 25/40) | LOSS: 0.1704 | ACCURACY: 95.1644% \n"
          ]
        },
        {
          "data": {
            "application/vnd.jupyter.widget-view+json": {
              "model_id": "ee38730dc1c44cfdb2e8c32583bf496f",
              "version_major": 2,
              "version_minor": 0
            },
            "text/plain": [
              "  0%|          | 0/388 [00:00<?, ?it/s]"
            ]
          },
          "metadata": {},
          "output_type": "display_data"
        },
        {
          "name": "stdout",
          "output_type": "stream",
          "text": [
            "# TRAIN     (EPOCH: 26/40) | LOSS: 0.2098 | ACCURACY: 93.1201% \n"
          ]
        },
        {
          "data": {
            "application/vnd.jupyter.widget-view+json": {
              "model_id": "5afe9540069b44a892845aec334203c0",
              "version_major": 2,
              "version_minor": 0
            },
            "text/plain": [
              "  0%|          | 0/49 [00:00<?, ?it/s]"
            ]
          },
          "metadata": {},
          "output_type": "display_data"
        },
        {
          "name": "stdout",
          "output_type": "stream",
          "text": [
            "# DEV (EPOCH: 26/40) | LOSS: 0.1662 | ACCURACY: 95.6802% \n"
          ]
        },
        {
          "data": {
            "application/vnd.jupyter.widget-view+json": {
              "model_id": "6fd81d584e324d3b8eb0cf5eec9b24e2",
              "version_major": 2,
              "version_minor": 0
            },
            "text/plain": [
              "  0%|          | 0/388 [00:00<?, ?it/s]"
            ]
          },
          "metadata": {},
          "output_type": "display_data"
        },
        {
          "name": "stdout",
          "output_type": "stream",
          "text": [
            "# TRAIN     (EPOCH: 27/40) | LOSS: 0.2125 | ACCURACY: 93.2087% \n"
          ]
        },
        {
          "data": {
            "application/vnd.jupyter.widget-view+json": {
              "model_id": "57493ef0b7f9458481a3c06622bdbfbf",
              "version_major": 2,
              "version_minor": 0
            },
            "text/plain": [
              "  0%|          | 0/49 [00:00<?, ?it/s]"
            ]
          },
          "metadata": {},
          "output_type": "display_data"
        },
        {
          "name": "stdout",
          "output_type": "stream",
          "text": [
            "# DEV (EPOCH: 27/40) | LOSS: 0.1704 | ACCURACY: 95.2289% \n"
          ]
        },
        {
          "data": {
            "application/vnd.jupyter.widget-view+json": {
              "model_id": "365baf517f2e4fd08ef099fe46d8f72b",
              "version_major": 2,
              "version_minor": 0
            },
            "text/plain": [
              "  0%|          | 0/388 [00:00<?, ?it/s]"
            ]
          },
          "metadata": {},
          "output_type": "display_data"
        },
        {
          "name": "stdout",
          "output_type": "stream",
          "text": [
            "# TRAIN     (EPOCH: 28/40) | LOSS: 0.2126 | ACCURACY: 93.3296% \n"
          ]
        },
        {
          "data": {
            "application/vnd.jupyter.widget-view+json": {
              "model_id": "e74ea6f80e814f51ae2b215f33ff575c",
              "version_major": 2,
              "version_minor": 0
            },
            "text/plain": [
              "  0%|          | 0/49 [00:00<?, ?it/s]"
            ]
          },
          "metadata": {},
          "output_type": "display_data"
        },
        {
          "name": "stdout",
          "output_type": "stream",
          "text": [
            "# DEV (EPOCH: 28/40) | LOSS: 0.1631 | ACCURACY: 95.2934% \n"
          ]
        },
        {
          "data": {
            "application/vnd.jupyter.widget-view+json": {
              "model_id": "2cafa83973a24d61bbed5317ba913605",
              "version_major": 2,
              "version_minor": 0
            },
            "text/plain": [
              "  0%|          | 0/388 [00:00<?, ?it/s]"
            ]
          },
          "metadata": {},
          "output_type": "display_data"
        },
        {
          "name": "stdout",
          "output_type": "stream",
          "text": [
            "# TRAIN     (EPOCH: 29/40) | LOSS: 0.2062 | ACCURACY: 93.5149% \n"
          ]
        },
        {
          "data": {
            "application/vnd.jupyter.widget-view+json": {
              "model_id": "8f45272e88d94407b571979d2eff2d37",
              "version_major": 2,
              "version_minor": 0
            },
            "text/plain": [
              "  0%|          | 0/49 [00:00<?, ?it/s]"
            ]
          },
          "metadata": {},
          "output_type": "display_data"
        },
        {
          "name": "stdout",
          "output_type": "stream",
          "text": [
            "# DEV (EPOCH: 29/40) | LOSS: 0.1675 | ACCURACY: 95.4223% \n"
          ]
        },
        {
          "data": {
            "application/vnd.jupyter.widget-view+json": {
              "model_id": "a4817efeff3d463288020af364af3a93",
              "version_major": 2,
              "version_minor": 0
            },
            "text/plain": [
              "  0%|          | 0/388 [00:00<?, ?it/s]"
            ]
          },
          "metadata": {},
          "output_type": "display_data"
        },
        {
          "name": "stdout",
          "output_type": "stream",
          "text": [
            "# TRAIN     (EPOCH: 30/40) | LOSS: 0.2090 | ACCURACY: 93.2248% \n"
          ]
        },
        {
          "data": {
            "application/vnd.jupyter.widget-view+json": {
              "model_id": "4b43cb26a5d8451280d38058f448d674",
              "version_major": 2,
              "version_minor": 0
            },
            "text/plain": [
              "  0%|          | 0/49 [00:00<?, ?it/s]"
            ]
          },
          "metadata": {},
          "output_type": "display_data"
        },
        {
          "name": "stdout",
          "output_type": "stream",
          "text": [
            "# DEV (EPOCH: 30/40) | LOSS: 0.1668 | ACCURACY: 95.1644% \n"
          ]
        },
        {
          "data": {
            "application/vnd.jupyter.widget-view+json": {
              "model_id": "a32a67f21be5488289d7a21aee8662fc",
              "version_major": 2,
              "version_minor": 0
            },
            "text/plain": [
              "  0%|          | 0/388 [00:00<?, ?it/s]"
            ]
          },
          "metadata": {},
          "output_type": "display_data"
        },
        {
          "name": "stdout",
          "output_type": "stream",
          "text": [
            "# TRAIN     (EPOCH: 31/40) | LOSS: 0.2134 | ACCURACY: 93.0879% \n"
          ]
        },
        {
          "data": {
            "application/vnd.jupyter.widget-view+json": {
              "model_id": "9d68b8b9ff87491e818347dc697e00c5",
              "version_major": 2,
              "version_minor": 0
            },
            "text/plain": [
              "  0%|          | 0/49 [00:00<?, ?it/s]"
            ]
          },
          "metadata": {},
          "output_type": "display_data"
        },
        {
          "name": "stdout",
          "output_type": "stream",
          "text": [
            "# DEV (EPOCH: 31/40) | LOSS: 0.1779 | ACCURACY: 94.7131% \n"
          ]
        },
        {
          "data": {
            "application/vnd.jupyter.widget-view+json": {
              "model_id": "8b50126b736f4e558a7b97f3132f29c4",
              "version_major": 2,
              "version_minor": 0
            },
            "text/plain": [
              "  0%|          | 0/388 [00:00<?, ?it/s]"
            ]
          },
          "metadata": {},
          "output_type": "display_data"
        },
        {
          "name": "stdout",
          "output_type": "stream",
          "text": [
            "# TRAIN     (EPOCH: 32/40) | LOSS: 0.2190 | ACCURACY: 93.0879% \n"
          ]
        },
        {
          "data": {
            "application/vnd.jupyter.widget-view+json": {
              "model_id": "8358f8b790df4b8fafe84585fbd46d85",
              "version_major": 2,
              "version_minor": 0
            },
            "text/plain": [
              "  0%|          | 0/49 [00:00<?, ?it/s]"
            ]
          },
          "metadata": {},
          "output_type": "display_data"
        },
        {
          "name": "stdout",
          "output_type": "stream",
          "text": [
            "# DEV (EPOCH: 32/40) | LOSS: 0.1643 | ACCURACY: 95.2934% \n"
          ]
        },
        {
          "data": {
            "application/vnd.jupyter.widget-view+json": {
              "model_id": "2eac6619e0614efc9d6d6d57d41c7694",
              "version_major": 2,
              "version_minor": 0
            },
            "text/plain": [
              "  0%|          | 0/388 [00:00<?, ?it/s]"
            ]
          },
          "metadata": {},
          "output_type": "display_data"
        },
        {
          "name": "stdout",
          "output_type": "stream",
          "text": [
            "# TRAIN     (EPOCH: 33/40) | LOSS: 0.1999 | ACCURACY: 93.5632% \n"
          ]
        },
        {
          "data": {
            "application/vnd.jupyter.widget-view+json": {
              "model_id": "8a9e438fd1ff4317bf5a130ab07b7c22",
              "version_major": 2,
              "version_minor": 0
            },
            "text/plain": [
              "  0%|          | 0/49 [00:00<?, ?it/s]"
            ]
          },
          "metadata": {},
          "output_type": "display_data"
        },
        {
          "name": "stdout",
          "output_type": "stream",
          "text": [
            "# DEV (EPOCH: 33/40) | LOSS: 0.1669 | ACCURACY: 95.2289% \n"
          ]
        },
        {
          "data": {
            "application/vnd.jupyter.widget-view+json": {
              "model_id": "b2c8b3a3f8c34bdf97c7f543916e0f4d",
              "version_major": 2,
              "version_minor": 0
            },
            "text/plain": [
              "  0%|          | 0/388 [00:00<?, ?it/s]"
            ]
          },
          "metadata": {},
          "output_type": "display_data"
        },
        {
          "name": "stdout",
          "output_type": "stream",
          "text": [
            "# TRAIN     (EPOCH: 34/40) | LOSS: 0.2091 | ACCURACY: 93.4504% \n"
          ]
        },
        {
          "data": {
            "application/vnd.jupyter.widget-view+json": {
              "model_id": "0ce30ec18f714ac08aa9f1b21c4c83ba",
              "version_major": 2,
              "version_minor": 0
            },
            "text/plain": [
              "  0%|          | 0/49 [00:00<?, ?it/s]"
            ]
          },
          "metadata": {},
          "output_type": "display_data"
        },
        {
          "name": "stdout",
          "output_type": "stream",
          "text": [
            "# DEV (EPOCH: 34/40) | LOSS: 0.1690 | ACCURACY: 94.9710% \n"
          ]
        },
        {
          "data": {
            "application/vnd.jupyter.widget-view+json": {
              "model_id": "8238c967d0d34cb5bcf48c82b9c64565",
              "version_major": 2,
              "version_minor": 0
            },
            "text/plain": [
              "  0%|          | 0/388 [00:00<?, ?it/s]"
            ]
          },
          "metadata": {},
          "output_type": "display_data"
        },
        {
          "name": "stdout",
          "output_type": "stream",
          "text": [
            "# TRAIN     (EPOCH: 35/40) | LOSS: 0.2126 | ACCURACY: 93.2410% \n"
          ]
        },
        {
          "data": {
            "application/vnd.jupyter.widget-view+json": {
              "model_id": "57e12108cc244a12af30fe0535c664b2",
              "version_major": 2,
              "version_minor": 0
            },
            "text/plain": [
              "  0%|          | 0/49 [00:00<?, ?it/s]"
            ]
          },
          "metadata": {},
          "output_type": "display_data"
        },
        {
          "name": "stdout",
          "output_type": "stream",
          "text": [
            "# DEV (EPOCH: 35/40) | LOSS: 0.1637 | ACCURACY: 95.4223% \n"
          ]
        },
        {
          "data": {
            "application/vnd.jupyter.widget-view+json": {
              "model_id": "3224e0685a20479a8a685cd627795940",
              "version_major": 2,
              "version_minor": 0
            },
            "text/plain": [
              "  0%|          | 0/388 [00:00<?, ?it/s]"
            ]
          },
          "metadata": {},
          "output_type": "display_data"
        },
        {
          "name": "stdout",
          "output_type": "stream",
          "text": [
            "# TRAIN     (EPOCH: 36/40) | LOSS: 0.2031 | ACCURACY: 93.4182% \n"
          ]
        },
        {
          "data": {
            "application/vnd.jupyter.widget-view+json": {
              "model_id": "d1dbb6d8a4f34733aae12b81219ae0a7",
              "version_major": 2,
              "version_minor": 0
            },
            "text/plain": [
              "  0%|          | 0/49 [00:00<?, ?it/s]"
            ]
          },
          "metadata": {},
          "output_type": "display_data"
        },
        {
          "name": "stdout",
          "output_type": "stream",
          "text": [
            "# DEV (EPOCH: 36/40) | LOSS: 0.1691 | ACCURACY: 95.2934% \n"
          ]
        },
        {
          "data": {
            "application/vnd.jupyter.widget-view+json": {
              "model_id": "f3e7deb73e4748e9aa1d1cc7ba2b7694",
              "version_major": 2,
              "version_minor": 0
            },
            "text/plain": [
              "  0%|          | 0/388 [00:00<?, ?it/s]"
            ]
          },
          "metadata": {},
          "output_type": "display_data"
        },
        {
          "name": "stdout",
          "output_type": "stream",
          "text": [
            "# TRAIN     (EPOCH: 37/40) | LOSS: 0.2046 | ACCURACY: 93.4504% \n"
          ]
        },
        {
          "data": {
            "application/vnd.jupyter.widget-view+json": {
              "model_id": "39e24af9fc83405eaf6127ff1b85ea38",
              "version_major": 2,
              "version_minor": 0
            },
            "text/plain": [
              "  0%|          | 0/49 [00:00<?, ?it/s]"
            ]
          },
          "metadata": {},
          "output_type": "display_data"
        },
        {
          "name": "stdout",
          "output_type": "stream",
          "text": [
            "# DEV (EPOCH: 37/40) | LOSS: 0.1702 | ACCURACY: 95.4223% \n"
          ]
        },
        {
          "data": {
            "application/vnd.jupyter.widget-view+json": {
              "model_id": "ed39529609684de5b52746d75921b631",
              "version_major": 2,
              "version_minor": 0
            },
            "text/plain": [
              "  0%|          | 0/388 [00:00<?, ?it/s]"
            ]
          },
          "metadata": {},
          "output_type": "display_data"
        },
        {
          "name": "stdout",
          "output_type": "stream",
          "text": [
            "# TRAIN     (EPOCH: 38/40) | LOSS: 0.2024 | ACCURACY: 93.4182% \n"
          ]
        },
        {
          "data": {
            "application/vnd.jupyter.widget-view+json": {
              "model_id": "f3d8acd9881144139b2878bde92eb71d",
              "version_major": 2,
              "version_minor": 0
            },
            "text/plain": [
              "  0%|          | 0/49 [00:00<?, ?it/s]"
            ]
          },
          "metadata": {},
          "output_type": "display_data"
        },
        {
          "name": "stdout",
          "output_type": "stream",
          "text": [
            "# DEV (EPOCH: 38/40) | LOSS: 0.1680 | ACCURACY: 95.3578% \n"
          ]
        },
        {
          "data": {
            "application/vnd.jupyter.widget-view+json": {
              "model_id": "31ad7ffe04c04029bf31ef8c749d85e2",
              "version_major": 2,
              "version_minor": 0
            },
            "text/plain": [
              "  0%|          | 0/388 [00:00<?, ?it/s]"
            ]
          },
          "metadata": {},
          "output_type": "display_data"
        },
        {
          "name": "stdout",
          "output_type": "stream",
          "text": [
            "# TRAIN     (EPOCH: 39/40) | LOSS: 0.2051 | ACCURACY: 93.5149% \n"
          ]
        },
        {
          "data": {
            "application/vnd.jupyter.widget-view+json": {
              "model_id": "97525c1327214219bf7f5358574be853",
              "version_major": 2,
              "version_minor": 0
            },
            "text/plain": [
              "  0%|          | 0/49 [00:00<?, ?it/s]"
            ]
          },
          "metadata": {},
          "output_type": "display_data"
        },
        {
          "name": "stdout",
          "output_type": "stream",
          "text": [
            "# DEV (EPOCH: 39/40) | LOSS: 0.1611 | ACCURACY: 95.5513% \n"
          ]
        },
        {
          "data": {
            "application/vnd.jupyter.widget-view+json": {
              "model_id": "145b326a2ce846d59b5e1c22b0a3e495",
              "version_major": 2,
              "version_minor": 0
            },
            "text/plain": [
              "  0%|          | 0/388 [00:00<?, ?it/s]"
            ]
          },
          "metadata": {},
          "output_type": "display_data"
        },
        {
          "name": "stdout",
          "output_type": "stream",
          "text": [
            "# TRAIN     (EPOCH: 40/40) | LOSS: 0.2076 | ACCURACY: 93.3860% \n"
          ]
        },
        {
          "data": {
            "application/vnd.jupyter.widget-view+json": {
              "model_id": "a545466d65fa4c5b9a5b7476053b7961",
              "version_major": 2,
              "version_minor": 0
            },
            "text/plain": [
              "  0%|          | 0/49 [00:00<?, ?it/s]"
            ]
          },
          "metadata": {},
          "output_type": "display_data"
        },
        {
          "name": "stdout",
          "output_type": "stream",
          "text": [
            "# DEV (EPOCH: 40/40) | LOSS: 0.1637 | ACCURACY: 95.0999% \n"
          ]
        },
        {
          "data": {
            "application/vnd.jupyter.widget-view+json": {
              "model_id": "43255f814bbe4a48b18f566f146149c8",
              "version_major": 2,
              "version_minor": 0
            },
            "text/plain": [
              "  0%|          | 0/49 [00:00<?, ?it/s]"
            ]
          },
          "metadata": {},
          "output_type": "display_data"
        },
        {
          "name": "stdout",
          "output_type": "stream",
          "text": [
            "# SUMMARY\n",
            "# FINAL TRAIN | LOSS: 0.2076 | ACCURACY: 93.3860% \n",
            "# FINAL DEV   | LOSS: 0.1637 | ACCURACY: 95.0999% \n",
            "# FINAL TEST  | LOSS: 0.1880 | ACCURACY: 95.0999%\n"
          ]
        }
      ],
      "source": [
        "train_losses, train_accuracies, dev_losses, dev_accuracies = fit()"
      ]
    },
    {
      "cell_type": "code",
      "execution_count": null,
      "id": "cf61ed59",
      "metadata": {
        "id": "cf61ed59",
        "outputId": "d9aa16bf-1c1d-42ea-fbe4-fda2dbc4a80e"
      },
      "outputs": [
        {
          "name": "stderr",
          "output_type": "stream",
          "text": [
            "C:\\Users\\owj04\\AppData\\Local\\Temp\\ipykernel_3180\\3048987814.py:19: UserWarning: Matplotlib is currently using module://matplotlib_inline.backend_inline, which is a non-GUI backend, so cannot show the figure.\n",
            "  fig.show()\n"
          ]
        },
        {
          "data": {
            "image/png": "[encoded data removed]",
            "text/plain": [
              "<Figure size 2000x1000 with 2 Axes>"
            ]
          },
          "metadata": {},
          "output_type": "display_data"
        }
      ],
      "source": [
        "fig = plt.figure(figsize = (20, 10))\n",
        "\n",
        "loss_ax = fig.add_subplot(1, 2, 1)\n",
        "loss_ax.set_title('Loss', size=24)\n",
        "loss_ax.set_xlabel('epoch', size=16)\n",
        "loss_ax.set_xticks([i for i in range(epochs)], labels=[i+1 for i in range(epochs)])\n",
        "loss_ax.set_ylabel('loss', size=16)\n",
        "loss_ax.plot(train_losses, color='blue', marker='o', label='Train')\n",
        "loss_ax.plot(dev_losses, color='orange', marker='o', label='Dev')\n",
        "\n",
        "accuracy_ax = fig.add_subplot(1, 2, 2)\n",
        "accuracy_ax.set_title('Accuracy', size=24)\n",
        "accuracy_ax.set_xlabel('epoch', size=16)\n",
        "accuracy_ax.set_xticks([i for i in range(epochs)], labels=[i+1 for i in range(epochs)])\n",
        "accuracy_ax.set_ylabel('accuracy', size=16)\n",
        "accuracy_ax.plot(train_accuracies, color='blue', marker='o', label='Train')\n",
        "accuracy_ax.plot(dev_accuracies, color='orange', marker='o', label='Dev')\n",
        "\n",
        "fig.show()"
      ]
    },
    {
      "cell_type": "markdown",
      "id": "63e52244",
      "metadata": {
        "id": "63e52244"
      },
      "source": [
        "# Test With Custom Picture"
      ]
    },
    {
      "cell_type": "code",
      "execution_count": null,
      "id": "56efbf46",
      "metadata": {
        "id": "56efbf46"
      },
      "outputs": [],
      "source": [
        "def predict_image(image, model):\n",
        "    image = Image.open(image)\n",
        "    transform = data_transforms['original']\n",
        "    \n",
        "    image = transform(image)\n",
        "    image = torch.unsqueeze(image, 0)\n",
        "    \n",
        "    pred = model(image)\n",
        "    pred = idx_to_class[int(pred.argmax(1))]\n",
        "    return pred"
      ]
    },
    {
      "cell_type": "code",
      "execution_count": null,
      "id": "f915ad4b",
      "metadata": {
        "id": "f915ad4b",
        "outputId": "424c5c45-a3a8-4086-bfa0-f39890f7238c",
        "colab": {
          "base_uri": "https://localhost:8080/",
          "height": 474
        }
      },
      "outputs": [
        {
          "output_type": "display_data",
          "data": {
            "text/plain": [
              "<Figure size 720x1440 with 4 Axes>"
            ],
            "image/png": "[encoded data removed]"
          },
          "metadata": {}
        }
      ],
      "source": [
        "model = CustomModel(num_classes, 0.3)\n",
        "model.load_state_dict(torch.load(os.path.join(MODEL_PATH)))\n",
        "\n",
        "model.eval()\n",
        "\n",
        "plt.figure(figsize=(10,20))\n",
        "\n",
        "test_path = '/content/gdrive/MyDrive/test_images'\n",
        "imgs = [os.path.join(test_path, file_name) for file_name in os.listdir(test_path)] # TODO: write your image path here\n",
        "with torch.no_grad():\n",
        "    for idx, img in enumerate(imgs):\n",
        "        plt.subplot(10, 1, idx + 1)\n",
        "        pred = predict_image(img, model)\n",
        "        plt.title(pred)\n",
        "        plt.xticks([]) \n",
        "        plt.yticks([])\n",
        "        plt.imshow(Image.open(img))  \n",
        "\n"
      ]
    }
  ],
  "metadata": {
    "accelerator": "GPU",
    "colab": {
      "provenance": []
    },
    "gpuClass": "standard",
    "kernelspec": {
      "display_name": "Python 3 (ipykernel)",
      "language": "python",
      "name": "python3"
    },
    "language_info": {
      "codemirror_mode": {
        "name": "ipython",
        "version": 3
      },
      "file_extension": ".py",
      "mimetype": "text/x-python",
      "name": "python",
      "nbconvert_exporter": "python",
      "pygments_lexer": "ipython3",
      "version": "3.9.16"
    }
  },
  "nbformat": 4,
  "nbformat_minor": 5
}